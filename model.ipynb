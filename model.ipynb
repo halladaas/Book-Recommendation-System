{
 "cells": [
  {
   "cell_type": "markdown",
   "id": "14afdba7",
   "metadata": {},
   "source": [
    "# Imports"
   ]
  },
  {
   "cell_type": "code",
   "execution_count": null,
   "id": "44b12b23",
   "metadata": {},
   "outputs": [],
   "source": [
    "# import files\n",
    "import pandas as pd\n",
    "from sklearn.feature_extraction.text import TfidfVectorizer\n",
    "from sklearn.metrics.pairwise import cosine_similarity"
   ]
  },
  {
   "cell_type": "markdown",
   "id": "1b48deaf",
   "metadata": {},
   "source": [
    "# Model"
   ]
  },
  {
   "cell_type": "code",
   "execution_count": 3,
   "id": "31816186",
   "metadata": {},
   "outputs": [
    {
     "name": "stdout",
     "output_type": "stream",
     "text": [
      "[\"Harry Potter and the Sorcerer's Stone\", 'Harry Potter and the Chamber of Secrets', 'The Lord of the Rings']\n"
     ]
    }
   ],
   "source": [
    "# --- Sample dataset (replace with your own later) ---\n",
    "data = {\n",
    "    \"title\": [\n",
    "        \"The Hobbit\",\n",
    "        \"The Lord of the Rings\",\n",
    "        \"Harry Potter and the Sorcerer's Stone\",\n",
    "        \"Harry Potter and the Chamber of Secrets\",\n",
    "        \"A Game of Thrones\",\n",
    "    ],\n",
    "    \"author\": [\n",
    "        \"J.R.R. Tolkien\",\n",
    "        \"J.R.R. Tolkien\",\n",
    "        \"J.K. Rowling\",\n",
    "        \"J.K. Rowling\",\n",
    "        \"George R.R. Martin\",\n",
    "    ],\n",
    "    \"description\": [\n",
    "        \"A hobbit goes on a journey with dwarves and a wizard.\",\n",
    "        \"A group sets out to destroy a powerful ring.\",\n",
    "        \"A boy discovers he is a wizard and attends a magical school.\",\n",
    "        \"The young wizard faces a hidden chamber and a dark force.\",\n",
    "        \"Noble families vie for the throne in a fantasy kingdom.\",\n",
    "    ],\n",
    "}\n",
    "\n",
    "books_df = pd.DataFrame(data)\n",
    "\n",
    "# --- TF-IDF (turn text into vectors) ---\n",
    "tfidf = TfidfVectorizer(stop_words=\"english\")\n",
    "tfidf_matrix = tfidf.fit_transform(books_df[\"description\"])\n",
    "\n",
    "# --- Similarity scores ---\n",
    "cosine_sim = cosine_similarity(tfidf_matrix, tfidf_matrix)\n",
    "\n",
    "# --- Recommendation function ---\n",
    "def recommend_books(title, top_n=3):\n",
    "    if title not in books_df[\"title\"].values:\n",
    "        return [\"Book not found in dataset.\"]\n",
    "    \n",
    "    idx = books_df[books_df[\"title\"] == title].index[0]\n",
    "    sim_scores = list(enumerate(cosine_sim[idx]))\n",
    "    sim_scores = sorted(sim_scores, key=lambda x: x[1], reverse=True)\n",
    "    sim_scores = sim_scores[1 : top_n + 1]\n",
    "    book_indices = [i[0] for i in sim_scores]\n",
    "    return books_df[\"title\"].iloc[book_indices].tolist()\n",
    "\n",
    "# --- Test ---\n",
    "print(recommend_books(\"The Hobbit\"))"
   ]
  }
 ],
 "metadata": {
  "kernelspec": {
   "display_name": "base",
   "language": "python",
   "name": "python3"
  },
  "language_info": {
   "codemirror_mode": {
    "name": "ipython",
    "version": 3
   },
   "file_extension": ".py",
   "mimetype": "text/x-python",
   "name": "python",
   "nbconvert_exporter": "python",
   "pygments_lexer": "ipython3",
   "version": "3.10.13"
  }
 },
 "nbformat": 4,
 "nbformat_minor": 5
}
