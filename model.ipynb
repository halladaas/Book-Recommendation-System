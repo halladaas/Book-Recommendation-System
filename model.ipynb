{
 "cells": [
  {
   "cell_type": "markdown",
   "id": "14afdba7",
   "metadata": {},
   "source": [
    "# Imports"
   ]
  },
  {
   "cell_type": "code",
   "execution_count": 1,
   "id": "44b12b23",
   "metadata": {},
   "outputs": [],
   "source": [
    "# import files\n",
    "import pandas as pd\n",
    "from sklearn.feature_extraction.text import TfidfVectorizer\n",
    "from sklearn.metrics.pairwise import cosine_similarity\n",
    "from datetime import datetime"
   ]
  },
  {
   "cell_type": "markdown",
   "id": "1b48deaf",
   "metadata": {},
   "source": [
    "# Model (ignore)"
   ]
  },
  {
   "cell_type": "code",
   "execution_count": null,
   "id": "31816186",
   "metadata": {},
   "outputs": [
    {
     "name": "stdout",
     "output_type": "stream",
     "text": [
      "[\"Harry Potter and the Sorcerer's Stone\", 'Harry Potter and the Chamber of Secrets', 'The Lord of the Rings']\n"
     ]
    }
   ],
   "source": [
    "# --- Sample dataset (replace with your own later) ---\n",
    "data = {\n",
    "    \"title\": [\n",
    "        \"The Hobbit\",\n",
    "        \"The Lord of the Rings\",\n",
    "        \"Harry Potter and the Sorcerer's Stone\",\n",
    "        \"Harry Potter and the Chamber of Secrets\",\n",
    "        \"A Game of Thrones\",\n",
    "    ],\n",
    "    \"author\": [\n",
    "        \"J.R.R. Tolkien\",\n",
    "        \"J.R.R. Tolkien\",\n",
    "        \"J.K. Rowling\",\n",
    "        \"J.K. Rowling\",\n",
    "        \"George R.R. Martin\",\n",
    "    ],\n",
    "    \"description\": [\n",
    "        \"A hobbit goes on a journey with dwarves and a wizard.\",\n",
    "        \"A group sets out to destroy a powerful ring.\",\n",
    "        \"A boy discovers he is a wizard and attends a magical school.\",\n",
    "        \"The young wizard faces a hidden chamber and a dark force.\",\n",
    "        \"Noble families vie for the throne in a fantasy kingdom.\",\n",
    "    ],\n",
    "}\n",
    "\n",
    "books_df = pd.DataFrame(data)\n",
    "\n",
    "# --- TF-IDF (turn text into vectors) ---\n",
    "tfidf = TfidfVectorizer(stop_words=\"english\")\n",
    "tfidf_matrix = tfidf.fit_transform(books_df[\"description\"])\n",
    "\n",
    "# --- Similarity scores ---\n",
    "cosine_sim = cosine_similarity(tfidf_matrix, tfidf_matrix)\n",
    "\n",
    "\n",
    "# --- Recommendation function ---\n",
    "def recommend_books(title, top_n=3):\n",
    "    if title not in books_df[\"title\"].values:\n",
    "        return [\"Book not found in dataset.\"]\n",
    "\n",
    "    idx = books_df[books_df[\"title\"] == title].index[0]\n",
    "    sim_scores = list(enumerate(cosine_sim[idx]))\n",
    "    sim_scores = sorted(sim_scores, key=lambda x: x[1], reverse=True)\n",
    "    sim_scores = sim_scores[1 : top_n + 1]\n",
    "    book_indices = [i[0] for i in sim_scores]\n",
    "    return books_df[\"title\"].iloc[book_indices].tolist()\n",
    "\n",
    "\n",
    "# --- Test ---\n",
    "print(recommend_books(\"The Hobbit\"))"
   ]
  },
  {
   "cell_type": "markdown",
   "id": "a310edf6",
   "metadata": {},
   "source": [
    "# Data Processing"
   ]
  },
  {
   "cell_type": "code",
   "execution_count": 5,
   "id": "78730fac",
   "metadata": {},
   "outputs": [],
   "source": [
    "# read the data\n",
    "\n",
    "books_df = pd.read_csv(\"books_data.csv\")\n",
    "reviews_df = pd.read_csv(\"Books_rating.csv\")\n"
   ]
  },
  {
   "cell_type": "code",
   "execution_count": 6,
   "id": "4d51dcbe",
   "metadata": {},
   "outputs": [],
   "source": [
    "def preprocess_reviews_df(reviews_df):\n",
    "    \"\"\"\n",
    "    This function preprocesses the reviews dataframe\n",
    "\n",
    "        Args:\n",
    "            reviews_df (pd.DataFrame): dataframe of the original reviews\n",
    "\n",
    "        Returns:\n",
    "            reviews_df (pd.DataFrame): preprocessed dataframe\n",
    "    \"\"\"\n",
    "\n",
    "    # rename columns for consistency\n",
    "    reviews_df.rename(\n",
    "        columns={\n",
    "            \"Id\": \"id\",\n",
    "            \"Title\": \"title\",\n",
    "            \"Price\": \"price\",\n",
    "            \"User_id\": \"user_id\",\n",
    "            \"profileName\": \"profile_name\",\n",
    "            \"review/helpfulness\": \"helpfulness\",\n",
    "            \"review/score\": \"score\",\n",
    "            \"review/time\": \"review_date\",\n",
    "            \"review/summary\": \"summary\",\n",
    "            \"review/text\": \"text\",\n",
    "        },\n",
    "        inplace=True,\n",
    "    )\n",
    "\n",
    "    # get the year of the review from the date (review/time)\n",
    "    reviews_df[\"year\"] = reviews_df[\"review_date\"].apply(\n",
    "        lambda x: datetime.utcfromtimestamp(x).year\n",
    "    )\n",
    "\n",
    "    # drop unnecessary cols\n",
    "    reviews_df.drop(columns=[\"price\"], inplace=True)\n",
    "\n",
    "    # drop the null titles and users\n",
    "    reviews_df = reviews_df.dropna(subset=[\"title\", \"user_id\"])\n",
    "\n",
    "    # Preprocess helpfulness\n",
    "    # handle 0/0\n",
    "    reviews_df[\"helpfulness\"] = reviews_df[\"helpfulness\"].replace(\"0/0\", 0)\n",
    "\n",
    "    # convert each helpfulness string to float\n",
    "    reviews_df[\"helpfulness\"] = reviews_df[\"helpfulness\"].apply(\n",
    "        lambda x: eval(x) if isinstance(x, str) and \"/\" in x else x\n",
    "    )\n",
    "    reviews_df[\"helpfulness\"] = reviews_df[\"helpfulness\"].astype(float)\n",
    "    reviews_df[\"helpfulness\"]\n",
    "\n",
    "    return reviews_df\n",
    "\n",
    "def preprocess_books_df(books_df):\n",
    "    # drop irrelevant cols\n",
    "    books_df.drop(columns=[\"previewLink\", \"infoLink\", \"ratingsCount\", \"publisher\"], inplace=True)\n",
    "\n",
    "    # rename cols\n",
    "    books_df.rename(\n",
    "        columns={\n",
    "            \"Title\": \"title\",\n",
    "            \"publishedDate\": \"published_date\",\n",
    "        },\n",
    "        inplace=True,\n",
    "    )\n",
    "\n",
    "    # drop null values in Title\n",
    "    books_df.dropna(subset=[\"title\"], inplace=True)\n",
    "\n",
    "    # fix the dates, extract the year of the book\n",
    "    books_df[\"published_date\"] = books_df[\"published_date\"].replace(\"1963*\", 1963)\n",
    "    books_df[\"published_date\"] = (\n",
    "        books_df[\"published_date\"].astype(str).str.extract(r\"(\\d{4})\")\n",
    "    )\n",
    "    books_df[\"published_date\"] = books_df[\"published_date\"].apply(\n",
    "        lambda x: int(x) if isinstance(x, str) and x.isdigit() else x\n",
    "    )\n",
    "\n",
    "    # calculate age (recency feature) - possibly for content based filtering if combined with category for ex\n",
    "    books_df[\"age\"] = datetime.today().year - books_df[\"published_date\"]\n",
    "    \n",
    "    return books_df"
   ]
  },
  {
   "cell_type": "code",
   "execution_count": 7,
   "id": "73afc551",
   "metadata": {},
   "outputs": [
    {
     "name": "stderr",
     "output_type": "stream",
     "text": [
      "C:\\Users\\alano\\AppData\\Local\\Temp\\ipykernel_2056\\2692198567.py:31: DeprecationWarning: datetime.datetime.utcfromtimestamp() is deprecated and scheduled for removal in a future version. Use timezone-aware objects to represent datetimes in UTC: datetime.datetime.fromtimestamp(timestamp, datetime.UTC).\n",
      "  lambda x: datetime.utcfromtimestamp(x).year\n",
      "C:\\Users\\alano\\AppData\\Local\\Temp\\ipykernel_2056\\2692198567.py:42: SettingWithCopyWarning: \n",
      "A value is trying to be set on a copy of a slice from a DataFrame.\n",
      "Try using .loc[row_indexer,col_indexer] = value instead\n",
      "\n",
      "See the caveats in the documentation: https://pandas.pydata.org/pandas-docs/stable/user_guide/indexing.html#returning-a-view-versus-a-copy\n",
      "  reviews_df[\"helpfulness\"] = reviews_df[\"helpfulness\"].replace(\"0/0\", 0)\n",
      "C:\\Users\\alano\\AppData\\Local\\Temp\\ipykernel_2056\\2692198567.py:45: SettingWithCopyWarning: \n",
      "A value is trying to be set on a copy of a slice from a DataFrame.\n",
      "Try using .loc[row_indexer,col_indexer] = value instead\n",
      "\n",
      "See the caveats in the documentation: https://pandas.pydata.org/pandas-docs/stable/user_guide/indexing.html#returning-a-view-versus-a-copy\n",
      "  reviews_df[\"helpfulness\"] = reviews_df[\"helpfulness\"].apply(\n",
      "C:\\Users\\alano\\AppData\\Local\\Temp\\ipykernel_2056\\2692198567.py:48: SettingWithCopyWarning: \n",
      "A value is trying to be set on a copy of a slice from a DataFrame.\n",
      "Try using .loc[row_indexer,col_indexer] = value instead\n",
      "\n",
      "See the caveats in the documentation: https://pandas.pydata.org/pandas-docs/stable/user_guide/indexing.html#returning-a-view-versus-a-copy\n",
      "  reviews_df[\"helpfulness\"] = reviews_df[\"helpfulness\"].astype(float)\n"
     ]
    }
   ],
   "source": [
    "reviews_df = preprocess_reviews_df(reviews_df)\n",
    "books_df = preprocess_books_df(books_df)"
   ]
  },
  {
   "cell_type": "code",
   "execution_count": 8,
   "id": "3942e347",
   "metadata": {},
   "outputs": [],
   "source": [
    "def calc_review_counts(books_df):\n",
    "    \n",
    "    # calculate review count for each book\n",
    "    review_counts_dict = reviews_df.groupby('title').agg(\n",
    "        count = ('id', 'count')\n",
    "    ).to_dict()['count']\n",
    "\n",
    "    # add the count column to books_df\n",
    "    books_df['count'] = books_df['title'].apply(lambda x: review_counts_dict.get(x))\n",
    "\n",
    "    books_df.sort_values(by='count', ascending = False)\n",
    "    \n",
    "    return books_df\n",
    "\n",
    "books_df = calc_review_counts(books_df)"
   ]
  },
  {
   "cell_type": "code",
   "execution_count": 9,
   "id": "c797859f",
   "metadata": {},
   "outputs": [
    {
     "data": {
      "text/html": [
       "<div>\n",
       "<style scoped>\n",
       "    .dataframe tbody tr th:only-of-type {\n",
       "        vertical-align: middle;\n",
       "    }\n",
       "\n",
       "    .dataframe tbody tr th {\n",
       "        vertical-align: top;\n",
       "    }\n",
       "\n",
       "    .dataframe thead th {\n",
       "        text-align: right;\n",
       "    }\n",
       "</style>\n",
       "<table border=\"1\" class=\"dataframe\">\n",
       "  <thead>\n",
       "    <tr style=\"text-align: right;\">\n",
       "      <th></th>\n",
       "      <th>id</th>\n",
       "      <th>title</th>\n",
       "      <th>user_id</th>\n",
       "      <th>profile_name</th>\n",
       "      <th>helpfulness</th>\n",
       "      <th>score</th>\n",
       "      <th>review_date</th>\n",
       "      <th>summary</th>\n",
       "      <th>text</th>\n",
       "      <th>year</th>\n",
       "    </tr>\n",
       "  </thead>\n",
       "  <tbody>\n",
       "    <tr>\n",
       "      <th>0</th>\n",
       "      <td>1882931173</td>\n",
       "      <td>Its Only Art If Its Well Hung!</td>\n",
       "      <td>AVCGYZL8FQQTD</td>\n",
       "      <td>Jim of Oz \"jim-of-oz\"</td>\n",
       "      <td>1.000000</td>\n",
       "      <td>4.0</td>\n",
       "      <td>940636800</td>\n",
       "      <td>Nice collection of Julie Strain images</td>\n",
       "      <td>This is only for Julie Strain fans. It's a col...</td>\n",
       "      <td>1999</td>\n",
       "    </tr>\n",
       "    <tr>\n",
       "      <th>1</th>\n",
       "      <td>0826414346</td>\n",
       "      <td>Dr. Seuss: American Icon</td>\n",
       "      <td>A30TK6U7DNS82R</td>\n",
       "      <td>Kevin Killian</td>\n",
       "      <td>1.000000</td>\n",
       "      <td>5.0</td>\n",
       "      <td>1095724800</td>\n",
       "      <td>Really Enjoyed It</td>\n",
       "      <td>I don't care much for Dr. Seuss but after read...</td>\n",
       "      <td>2004</td>\n",
       "    </tr>\n",
       "    <tr>\n",
       "      <th>2</th>\n",
       "      <td>0826414346</td>\n",
       "      <td>Dr. Seuss: American Icon</td>\n",
       "      <td>A3UH4UZ4RSVO82</td>\n",
       "      <td>John Granger</td>\n",
       "      <td>0.909091</td>\n",
       "      <td>5.0</td>\n",
       "      <td>1078790400</td>\n",
       "      <td>Essential for every personal and Public Library</td>\n",
       "      <td>If people become the books they read and if \"t...</td>\n",
       "      <td>2004</td>\n",
       "    </tr>\n",
       "    <tr>\n",
       "      <th>3</th>\n",
       "      <td>0826414346</td>\n",
       "      <td>Dr. Seuss: American Icon</td>\n",
       "      <td>A2MVUWT453QH61</td>\n",
       "      <td>Roy E. Perry \"amateur philosopher\"</td>\n",
       "      <td>1.000000</td>\n",
       "      <td>4.0</td>\n",
       "      <td>1090713600</td>\n",
       "      <td>Phlip Nel gives silly Seuss a serious treatment</td>\n",
       "      <td>Theodore Seuss Geisel (1904-1991), aka &amp;quot;D...</td>\n",
       "      <td>2004</td>\n",
       "    </tr>\n",
       "    <tr>\n",
       "      <th>4</th>\n",
       "      <td>0826414346</td>\n",
       "      <td>Dr. Seuss: American Icon</td>\n",
       "      <td>A22X4XUPKF66MR</td>\n",
       "      <td>D. H. Richards \"ninthwavestore\"</td>\n",
       "      <td>1.000000</td>\n",
       "      <td>4.0</td>\n",
       "      <td>1107993600</td>\n",
       "      <td>Good academic overview</td>\n",
       "      <td>Philip Nel - Dr. Seuss: American IconThis is b...</td>\n",
       "      <td>2005</td>\n",
       "    </tr>\n",
       "  </tbody>\n",
       "</table>\n",
       "</div>"
      ],
      "text/plain": [
       "           id                           title         user_id  \\\n",
       "0  1882931173  Its Only Art If Its Well Hung!   AVCGYZL8FQQTD   \n",
       "1  0826414346        Dr. Seuss: American Icon  A30TK6U7DNS82R   \n",
       "2  0826414346        Dr. Seuss: American Icon  A3UH4UZ4RSVO82   \n",
       "3  0826414346        Dr. Seuss: American Icon  A2MVUWT453QH61   \n",
       "4  0826414346        Dr. Seuss: American Icon  A22X4XUPKF66MR   \n",
       "\n",
       "                         profile_name  helpfulness  score  review_date  \\\n",
       "0               Jim of Oz \"jim-of-oz\"     1.000000    4.0    940636800   \n",
       "1                       Kevin Killian     1.000000    5.0   1095724800   \n",
       "2                        John Granger     0.909091    5.0   1078790400   \n",
       "3  Roy E. Perry \"amateur philosopher\"     1.000000    4.0   1090713600   \n",
       "4     D. H. Richards \"ninthwavestore\"     1.000000    4.0   1107993600   \n",
       "\n",
       "                                           summary  \\\n",
       "0           Nice collection of Julie Strain images   \n",
       "1                                Really Enjoyed It   \n",
       "2  Essential for every personal and Public Library   \n",
       "3  Phlip Nel gives silly Seuss a serious treatment   \n",
       "4                           Good academic overview   \n",
       "\n",
       "                                                text  year  \n",
       "0  This is only for Julie Strain fans. It's a col...  1999  \n",
       "1  I don't care much for Dr. Seuss but after read...  2004  \n",
       "2  If people become the books they read and if \"t...  2004  \n",
       "3  Theodore Seuss Geisel (1904-1991), aka &quot;D...  2004  \n",
       "4  Philip Nel - Dr. Seuss: American IconThis is b...  2005  "
      ]
     },
     "execution_count": 9,
     "metadata": {},
     "output_type": "execute_result"
    }
   ],
   "source": [
    "reviews_df.head()"
   ]
  },
  {
   "cell_type": "code",
   "execution_count": 10,
   "id": "9fcd3daa",
   "metadata": {},
   "outputs": [
    {
     "data": {
      "text/html": [
       "<div>\n",
       "<style scoped>\n",
       "    .dataframe tbody tr th:only-of-type {\n",
       "        vertical-align: middle;\n",
       "    }\n",
       "\n",
       "    .dataframe tbody tr th {\n",
       "        vertical-align: top;\n",
       "    }\n",
       "\n",
       "    .dataframe thead th {\n",
       "        text-align: right;\n",
       "    }\n",
       "</style>\n",
       "<table border=\"1\" class=\"dataframe\">\n",
       "  <thead>\n",
       "    <tr style=\"text-align: right;\">\n",
       "      <th></th>\n",
       "      <th>title</th>\n",
       "      <th>description</th>\n",
       "      <th>authors</th>\n",
       "      <th>image</th>\n",
       "      <th>published_date</th>\n",
       "      <th>categories</th>\n",
       "      <th>age</th>\n",
       "      <th>count</th>\n",
       "    </tr>\n",
       "  </thead>\n",
       "  <tbody>\n",
       "    <tr>\n",
       "      <th>0</th>\n",
       "      <td>Its Only Art If Its Well Hung!</td>\n",
       "      <td>NaN</td>\n",
       "      <td>['Julie Strain']</td>\n",
       "      <td>http://books.google.com/books/content?id=DykPA...</td>\n",
       "      <td>1996.0</td>\n",
       "      <td>['Comics &amp; Graphic Novels']</td>\n",
       "      <td>29.0</td>\n",
       "      <td>1.0</td>\n",
       "    </tr>\n",
       "    <tr>\n",
       "      <th>1</th>\n",
       "      <td>Dr. Seuss: American Icon</td>\n",
       "      <td>Philip Nel takes a fascinating look into the k...</td>\n",
       "      <td>['Philip Nel']</td>\n",
       "      <td>http://books.google.com/books/content?id=IjvHQ...</td>\n",
       "      <td>2005.0</td>\n",
       "      <td>['Biography &amp; Autobiography']</td>\n",
       "      <td>20.0</td>\n",
       "      <td>9.0</td>\n",
       "    </tr>\n",
       "    <tr>\n",
       "      <th>2</th>\n",
       "      <td>Wonderful Worship in Smaller Churches</td>\n",
       "      <td>This resource includes twelve principles in un...</td>\n",
       "      <td>['David R. Ray']</td>\n",
       "      <td>http://books.google.com/books/content?id=2tsDA...</td>\n",
       "      <td>2000.0</td>\n",
       "      <td>['Religion']</td>\n",
       "      <td>25.0</td>\n",
       "      <td>4.0</td>\n",
       "    </tr>\n",
       "    <tr>\n",
       "      <th>3</th>\n",
       "      <td>Whispers of the Wicked Saints</td>\n",
       "      <td>Julia Thomas finds her life spinning out of co...</td>\n",
       "      <td>['Veronica Haddon']</td>\n",
       "      <td>http://books.google.com/books/content?id=aRSIg...</td>\n",
       "      <td>2005.0</td>\n",
       "      <td>['Fiction']</td>\n",
       "      <td>20.0</td>\n",
       "      <td>32.0</td>\n",
       "    </tr>\n",
       "    <tr>\n",
       "      <th>4</th>\n",
       "      <td>Nation Dance: Religion, Identity and Cultural ...</td>\n",
       "      <td>NaN</td>\n",
       "      <td>['Edward Long']</td>\n",
       "      <td>NaN</td>\n",
       "      <td>2003.0</td>\n",
       "      <td>NaN</td>\n",
       "      <td>22.0</td>\n",
       "      <td>1.0</td>\n",
       "    </tr>\n",
       "  </tbody>\n",
       "</table>\n",
       "</div>"
      ],
      "text/plain": [
       "                                               title  \\\n",
       "0                     Its Only Art If Its Well Hung!   \n",
       "1                           Dr. Seuss: American Icon   \n",
       "2              Wonderful Worship in Smaller Churches   \n",
       "3                      Whispers of the Wicked Saints   \n",
       "4  Nation Dance: Religion, Identity and Cultural ...   \n",
       "\n",
       "                                         description              authors  \\\n",
       "0                                                NaN     ['Julie Strain']   \n",
       "1  Philip Nel takes a fascinating look into the k...       ['Philip Nel']   \n",
       "2  This resource includes twelve principles in un...     ['David R. Ray']   \n",
       "3  Julia Thomas finds her life spinning out of co...  ['Veronica Haddon']   \n",
       "4                                                NaN      ['Edward Long']   \n",
       "\n",
       "                                               image  published_date  \\\n",
       "0  http://books.google.com/books/content?id=DykPA...          1996.0   \n",
       "1  http://books.google.com/books/content?id=IjvHQ...          2005.0   \n",
       "2  http://books.google.com/books/content?id=2tsDA...          2000.0   \n",
       "3  http://books.google.com/books/content?id=aRSIg...          2005.0   \n",
       "4                                                NaN          2003.0   \n",
       "\n",
       "                      categories   age  count  \n",
       "0    ['Comics & Graphic Novels']  29.0    1.0  \n",
       "1  ['Biography & Autobiography']  20.0    9.0  \n",
       "2                   ['Religion']  25.0    4.0  \n",
       "3                    ['Fiction']  20.0   32.0  \n",
       "4                            NaN  22.0    1.0  "
      ]
     },
     "execution_count": 10,
     "metadata": {},
     "output_type": "execute_result"
    }
   ],
   "source": [
    "books_df.head()"
   ]
  },
  {
   "cell_type": "markdown",
   "id": "c6131fa3",
   "metadata": {},
   "source": [
    "# Non-personalized Recommendations"
   ]
  },
  {
   "cell_type": "markdown",
   "id": "1a386ed2",
   "metadata": {},
   "source": [
    "## Weighted Scoring"
   ]
  },
  {
   "cell_type": "code",
   "execution_count": null,
   "id": "0fec786a",
   "metadata": {},
   "outputs": [],
   "source": []
  },
  {
   "cell_type": "markdown",
   "id": "0dfdbe19",
   "metadata": {},
   "source": [
    "## Bayesian Scoring"
   ]
  },
  {
   "cell_type": "markdown",
   "id": "b674d3e3",
   "metadata": {},
   "source": [
    "Note: function used from \"Non_Personalized_Recommendations_Trending_Now\" notebook from iLearn"
   ]
  },
  {
   "cell_type": "code",
   "execution_count": null,
   "id": "0aee65d3",
   "metadata": {},
   "outputs": [],
   "source": [
    "def bayesian_scoring(reviews_df):\n",
    "    #step 1: create array with title, average rating of each book, and # of ratings\n",
    "    books_avg_ratings = reviews_df.groupby(['title']).agg(\n",
    "        avg_rating=('score', 'mean'),  \n",
    "        num_ratings=('score', 'count') \n",
    "    ).reset_index()\n",
    "    \n",
    "    #step 2: find m= Global average rating across all books\n",
    "    m = reviews_df['score'].mean()\n",
    "    #step 3: find C= confidence factor\n",
    "    C = reviews_df['title'].value_counts().mean()\n",
    "    #step 4: bayesian score\n",
    "    books_avg_ratings['bayesian_score'] = (\n",
    "        (C * m + books_avg_ratings['num_ratings'] * books_avg_ratings['avg_rating']) /\n",
    "        (C + books_avg_ratings['num_ratings'])\n",
    "    )\n",
    "    #step 5: rank the movies based on their bayesian score\n",
    "    books_avg_ratings_ranked = books_avg_ratings.sort_values(by=['bayesian_score'], ascending=False)\n",
    "    return books_avg_ratings_ranked"
   ]
  },
  {
   "cell_type": "code",
   "execution_count": 62,
   "id": "5c580318",
   "metadata": {},
   "outputs": [],
   "source": [
    "#Top 5 Books based on Bayesian Scoring Ranking \n",
    "top5 = bayesian_scoring(reviews_df).head()"
   ]
  },
  {
   "cell_type": "code",
   "execution_count": null,
   "id": "7a7786f4",
   "metadata": {},
   "outputs": [],
   "source": [
    "import requests\n",
    "from IPython.display import HTML\n",
    "\n",
    "def show_top_books_with_covers(df, title_col='title', n=5):\n",
    "    \"\"\"\n",
    "    show the top books with cover \n",
    "\n",
    "        Args:\n",
    "            df (pd.DataFrame): dataframe of the top books \n",
    "            title_col (str, optional): column name that contain book titles. Default = 'title'.\n",
    "            n (int, optional): no. of books to display. Default = 5.\n",
    "        \n",
    "        Returns:\n",
    "            IPython.display.HTML: An HTML table with book covers and titles\n",
    "    \n",
    "    \n",
    "    Note: function and HTML is a refined version of -> https://github.com/masao/google_books_api_wrapper\n",
    "    \n",
    "    \"\"\"\n",
    "\n",
    "    def get_google_books_cover(title):\n",
    "        url = f\"https://www.googleapis.com/books/v1/volumes?q=intitle:{title}\"\n",
    "        try:\n",
    "            response = requests.get(url, timeout=5).json()\n",
    "            return response['items'][0]['volumeInfo']['imageLinks']['thumbnail']\n",
    "        except Exception:\n",
    "            return \"https://via.placeholder.com/60x90?text=No+Cover\"\n",
    "\n",
    "    top_books = df.head(n).copy()\n",
    "    top_books['cover_url'] = top_books[title_col].apply(get_google_books_cover)\n",
    "\n",
    "    # Build HTML table\n",
    "    html_table = [\n",
    "        \"<table style='border-collapse: collapse; text-align: left;'>\",\n",
    "        \"<tr><th>Cover</th><th>Title</th></tr>\"\n",
    "    ]\n",
    "    for _, row in top_books.iterrows():\n",
    "        html_table.append(\n",
    "            f\"<tr style='border: 1px solid #ccc;'>\"\n",
    "            f\"<td><img src='{row['cover_url']}' width='60'></td>\"\n",
    "            f\"<td style='padding: 8px;'>{row[title_col]}</td>\"\n",
    "            f\"</tr>\"\n",
    "        )\n",
    "    html_table.append(\"</table>\")\n",
    "\n",
    "    return HTML(''.join(html_table))\n"
   ]
  },
  {
   "cell_type": "code",
   "execution_count": 61,
   "id": "7b9763cf",
   "metadata": {},
   "outputs": [
    {
     "data": {
      "text/html": [
       "<table style='border-collapse: collapse; text-align: left;'><tr><th>Cover</th><th>Title</th></tr><tr style='border: 1px solid #ccc;'><td><img src='http://books.google.com/books/content?id=YkVfeN-xC8wC&printsec=frontcover&img=1&zoom=1&edge=curl&source=gbs_api' width='60'></td><td style='padding: 8px;'>Lilla Belle: The First Stages</td></tr><tr style='border: 1px solid #ccc;'><td><img src='http://books.google.com/books/content?id=kYUw1foIpBUC&printsec=frontcover&img=1&zoom=1&edge=curl&source=gbs_api' width='60'></td><td style='padding: 8px;'>Why revival tarries</td></tr><tr style='border: 1px solid #ccc;'><td><img src='http://books.google.com/books/content?id=kfgnHCLvQPcC&printsec=frontcover&img=1&zoom=1&edge=curl&source=gbs_api' width='60'></td><td style='padding: 8px;'>With the Old Breed: At Peleliu and Okinawa</td></tr><tr style='border: 1px solid #ccc;'><td><img src='http://books.google.com/books/content?id=uFm6EAAAQBAJ&printsec=frontcover&img=1&zoom=1&edge=curl&source=gbs_api' width='60'></td><td style='padding: 8px;'>The Ferret Calendar 2005, Ferret Music</td></tr><tr style='border: 1px solid #ccc;'><td><img src='https://via.placeholder.com/60x90?text=No+Cover' width='60'></td><td style='padding: 8px;'>the lion's paw</td></tr></table>"
      ],
      "text/plain": [
       "<IPython.core.display.HTML object>"
      ]
     },
     "execution_count": 61,
     "metadata": {},
     "output_type": "execute_result"
    }
   ],
   "source": [
    "show_top_books_with_covers(top5)"
   ]
  },
  {
   "cell_type": "markdown",
   "id": "1ff6b2c6",
   "metadata": {},
   "source": [
    "## Wilson Scoring"
   ]
  },
  {
   "cell_type": "code",
   "execution_count": 63,
   "id": "19265191",
   "metadata": {},
   "outputs": [],
   "source": [
    "import numpy as np\n",
    "def wilson_scoring(reviews_df):  \n",
    "    # step 1: review/score column will help in implementing the thumbs-up/down ratio \n",
    "    # score > 4 = thumbs-up\n",
    "    #score < 4 = thumbs-down\n",
    "\n",
    "    reviews_wilson = reviews_df\n",
    "    reviews_wilson['thumbs'] = (reviews_wilson['score'] >= 4.0).astype(int)\n",
    "    \n",
    "    #step 2: create array with title, total(thumbs-up), total # of reviews, and p=ratio \n",
    "\n",
    "    books_wilson = reviews_wilson.groupby('title').agg(\n",
    "        thumbs_up=('thumbs', 'sum'),      # total thumbs-up across all reviews for that title\n",
    "        thumbs_down=('thumbs', lambda x: (x == 0).sum()),  # total thumbs down’s \n",
    "        total_reviews=('thumbs', 'count')         # number of review rows for that title\n",
    "    ).reset_index()\n",
    "    \n",
    "    #step 3: get p\n",
    "\n",
    "    books_wilson['p'] = books_wilson['thumbs_up'] / books_wilson['total_reviews']\n",
    "    #to avoid dividing by 0 error\n",
    "    books_wilson['p'] = books_wilson['p'].fillna(0)\n",
    "    books_wilson=books_wilson.sort_values(by=['total_reviews'], ascending=False)\n",
    "    \n",
    "    #step 4: calculate wilson score \n",
    "\n",
    "    books_wilson['wilson_score'] = (\n",
    "    (books_wilson['p'] + (z**2) / (2 * books_wilson['total_reviews']) -\n",
    "     z * np.sqrt(\n",
    "         (books_wilson['p'] * (1 - books_wilson['p']) / books_wilson['total_reviews']) +\n",
    "         (z**2) / (4 * books_wilson['total_reviews']**2)\n",
    "     )) /\n",
    "    (1 + (z**2) / books_wilson['total_reviews'])\n",
    "    )\n",
    "    books_wilson['wilson_score'] = books_wilson['wilson_score'].fillna(0)\n",
    "    #normalize\n",
    "    books_wilson['wilson_score'] = books_wilson['wilson_score'].clip(lower=0)\n",
    "    books_wilson = books_wilson.sort_values(by=['wilson_score'], ascending=False)\n",
    "    return books_wilson\n",
    "    \n"
   ]
  },
  {
   "cell_type": "code",
   "execution_count": 64,
   "id": "73e4be21",
   "metadata": {},
   "outputs": [
    {
     "data": {
      "text/html": [
       "<table style='border-collapse: collapse; text-align: left;'><tr><th>Cover</th><th>Title</th></tr><tr style='border: 1px solid #ccc;'><td><img src='http://books.google.com/books/content?id=kfgnHCLvQPcC&printsec=frontcover&img=1&zoom=1&edge=curl&source=gbs_api' width='60'></td><td style='padding: 8px;'>With the Old Breed: At Peleliu and Okinawa</td></tr><tr style='border: 1px solid #ccc;'><td><img src='http://books.google.com/books/content?id=kYUw1foIpBUC&printsec=frontcover&img=1&zoom=1&edge=curl&source=gbs_api' width='60'></td><td style='padding: 8px;'>Why revival tarries</td></tr><tr style='border: 1px solid #ccc;'><td><img src='https://via.placeholder.com/60x90?text=No+Cover' width='60'></td><td style='padding: 8px;'>Wildwood Wisdom</td></tr><tr style='border: 1px solid #ccc;'><td><img src='https://via.placeholder.com/60x90?text=No+Cover' width='60'></td><td style='padding: 8px;'>Little Britches</td></tr><tr style='border: 1px solid #ccc;'><td><img src='http://books.google.com/books/content?id=YkVfeN-xC8wC&printsec=frontcover&img=1&zoom=1&edge=curl&source=gbs_api' width='60'></td><td style='padding: 8px;'>Lilla Belle: The First Stages</td></tr></table>"
      ],
      "text/plain": [
       "<IPython.core.display.HTML object>"
      ]
     },
     "execution_count": 64,
     "metadata": {},
     "output_type": "execute_result"
    }
   ],
   "source": [
    "#Top 5 Books based on Bayesian Scoring Ranking \n",
    "top5 = wilson_scoring(reviews_df).head()\n",
    "show_top_books_with_covers(top5)"
   ]
  },
  {
   "cell_type": "markdown",
   "id": "edaa6740",
   "metadata": {},
   "source": [
    "## Apriori Algorithm"
   ]
  },
  {
   "cell_type": "code",
   "execution_count": null,
   "id": "2518b552",
   "metadata": {},
   "outputs": [],
   "source": []
  },
  {
   "cell_type": "markdown",
   "id": "8974c7f2",
   "metadata": {},
   "source": [
    "## FP Growth"
   ]
  },
  {
   "cell_type": "code",
   "execution_count": null,
   "id": "0a35f07d",
   "metadata": {},
   "outputs": [],
   "source": []
  },
  {
   "cell_type": "markdown",
   "id": "a5ef0df5",
   "metadata": {},
   "source": [
    "# Personalized Recommendations"
   ]
  },
  {
   "cell_type": "markdown",
   "id": "7dc86d11",
   "metadata": {},
   "source": [
    "## User-based collaborative filtering"
   ]
  },
  {
   "cell_type": "code",
   "execution_count": null,
   "id": "7fa8b806",
   "metadata": {},
   "outputs": [],
   "source": []
  },
  {
   "cell_type": "markdown",
   "id": "8eaafcf1",
   "metadata": {},
   "source": [
    "## Item-based collaborative filtering"
   ]
  },
  {
   "cell_type": "code",
   "execution_count": null,
   "id": "7b5ee23b",
   "metadata": {},
   "outputs": [],
   "source": []
  }
 ],
 "metadata": {
  "kernelspec": {
   "display_name": "Python 3",
   "language": "python",
   "name": "python3"
  },
  "language_info": {
   "codemirror_mode": {
    "name": "ipython",
    "version": 3
   },
   "file_extension": ".py",
   "mimetype": "text/x-python",
   "name": "python",
   "nbconvert_exporter": "python",
   "pygments_lexer": "ipython3",
   "version": "3.13.2"
  }
 },
 "nbformat": 4,
 "nbformat_minor": 5
}
